{
 "cells": [
  {
   "cell_type": "markdown",
   "id": "1dc1f286",
   "metadata": {},
   "source": [
    "start this notebook in the directory where you want to create the folder structure\n",
    "\n",
    "you need a folder called \"target_structures\" with the SLG, BLG and TLG .xyz files in it\n",
    "\n",
    "then run the runjobs script to automatically run the simulations"
   ]
  },
  {
   "cell_type": "markdown",
   "id": "fd9c7333",
   "metadata": {},
   "source": [
    "# General file functions"
   ]
  },
  {
   "cell_type": "code",
   "execution_count": null,
   "id": "aeabb8ab-cb25-4d37-bf54-9866924c1610",
   "metadata": {},
   "outputs": [],
   "source": [
    "import errno\n",
    "import os\n",
    "import shutil\n",
    "\n",
    "\n",
    "def mkdir_p(path):\n",
    "    try:\n",
    "        os.makedirs(path)\n",
    "    except OSError as exc: # Python > 2.5\n",
    "        if exc.errno == errno.EEXIST and os.path.isdir(path):\n",
    "            pass\n",
    "        else: raise\n",
    "\n",
    "def safe_open(path):\n",
    "    mkdir_p(os.path.dirname(path))\n",
    "    return open(path, 'w')\n"
   ]
  },
  {
   "cell_type": "markdown",
   "id": "00644c57-8484-440f-a6ad-cfd5b658d596",
   "metadata": {},
   "source": [
    "# Job batch"
   ]
  },
  {
   "cell_type": "code",
   "execution_count": null,
   "id": "741c3049-8b1c-476b-a0a9-c7160640f037",
   "metadata": {},
   "outputs": [],
   "source": [
    "# gamma parameters\n",
    "alist = [0.0105,]\n",
    "blist = [2.8,]\n",
    "clist = [2]\n",
    "\n",
    "# inital angle of the ion\n",
    "chi = [0, 10, 20]\n",
    "\n",
    "for target in ['SLG', 'BLG', 'TLG']:\n",
    "    for q in [30,]:\n",
    "        for ke in [10, 66, 100]:\n",
    "            s = f'{target}_Xe{q}_{ke}keV'\n",
    "            for a in alist:\n",
    "                for b in blist:\n",
    "                    for c in clist:\n",
    "                        for angle in chi:\n",
    "                            # write input file\n",
    "                            astring = str(a).replace('.', 'p')\n",
    "                            bstring = str(b).replace('.', 'p')\n",
    "                            cstring = str(c).replace('.', 'p')\n",
    "                            jobname = f'{s}_g-{astring}-{bstring}-{cstring}-a-{angle}'\n",
    "                            targetfname = f'{target}_tdpot.xyz'\n",
    "                            print(jobname)\n",
    "                            dir = f'prod/{target}/Xe{q}_{ke}keV/{jobname}/'\n",
    "                            fname = dir + 'indat.in'\n",
    "                            with safe_open(fname) as fo:\n",
    "                                fo.write(f'{jobname}                 ! jobname\\n')\n",
    "                                fo.write(f'hollow-krc                ! potential\\n')\n",
    "                                fo.write(f'Xe                        ! ion\\n')\n",
    "                                fo.write(f'54 129 {ke} {q}           ! Z, mass, KE, qin\\n')\n",
    "                                fo.write(f'1                         ! ff\\n')\n",
    "                                fo.write(f'0.0 0.0 1 2               ! fwhm_qout, sigma_therm, frozen_par, alpha_max\\n')\n",
    "                                fo.write(f'-30 30 0.01, 0.0001 40000 ! ion_zi, ion_zf, dx_step, acc, nions\\n')\n",
    "                                fo.write(f'{angle} {angle}           ! chi_min, chi_max\\n')\n",
    "                                fo.write(f'{a} {b} {c} 15.0          ! gam_a, gam_b, gam_c, gam_cut\\n')\n",
    "                                fo.write(f'0 0                       ! logmode, print_xyz_files\\n')\n",
    "                                fo.write(f'{targetfname}             ! target filename')\n",
    "\n",
    "                            # copy in target structure\n",
    "                            shutil.copyfile(f'target_structures/{targetfname}', dir + targetfname)\n",
    "\n",
    "                            # write jobscript\n",
    "                            jobfile = dir + 'job.sh'\n",
    "                            nodes = 2\n",
    "                            taks_per_node = 48\n",
    "                            np  = nodes * taks_per_node\n",
    "                            with safe_open(jobfile) as fo:\n",
    "                                fo.write(f'#!/bin/bash\\n')\n",
    "                                fo.write(f'#\\n')\n",
    "                                fo.write(f'#SBATCH -J {jobname}\\n')\n",
    "                                fo.write(f'#SBATCH -N {nodes}\\n')\n",
    "                                fo.write(f'#SBATCH --ntasks-per-node={taks_per_node}\\n')\n",
    "                                fo.write(f'#SBATCH --time=01:00:00\\n')\n",
    "                                fo.write(f'#SBATCH --ntasks-per-core=1\\n')\n",
    "                                fo.write(f'\\n')\n",
    "                                fo.write(f'module load openmpi/4.1.4-gcc-12.2.0-c7xovdh\\n')\n",
    "                                fo.write(f'exe=/home/fs71431/essletzbich/TDpot_fort/TDpot\\n')\n",
    "                                fo.write(f'\\n')\n",
    "                                fo.write(f'mpirun -np {np} $exe')\n"
   ]
  }
 ],
 "metadata": {
  "kernelspec": {
   "display_name": "Python 3 (ipykernel)",
   "language": "python",
   "name": "python3"
  },
  "language_info": {
   "codemirror_mode": {
    "name": "ipython",
    "version": 3
   },
   "file_extension": ".py",
   "mimetype": "text/x-python",
   "name": "python",
   "nbconvert_exporter": "python",
   "pygments_lexer": "ipython3",
   "version": "3.11.9"
  }
 },
 "nbformat": 4,
 "nbformat_minor": 5
}
